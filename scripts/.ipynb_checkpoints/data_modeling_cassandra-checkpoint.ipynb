{
 "cells": [
  {
   "cell_type": "code",
   "execution_count": 1,
   "id": "5a484a82",
   "metadata": {},
   "outputs": [],
   "source": [
    "import cassandra\n",
    "from cassandra.cluster import Cluster\n",
    "from dmc import CassandraConnector\n",
    "import pandas as pd\n",
    "import os\n",
    "from tqdm import tqdm"
   ]
  },
  {
   "cell_type": "markdown",
   "id": "df2f6070",
   "metadata": {},
   "source": [
    "### Preprocess the Flatfiles"
   ]
  },
  {
   "cell_type": "code",
   "execution_count": 2,
   "id": "cae62b87",
   "metadata": {},
   "outputs": [],
   "source": [
    "def process_file(df, filename, folder_path) -> pd.DataFrame:\n",
    "    \"\"\"\n",
    "        Processses a csv and appends it to an existing DataFrame.\n",
    "        df: Original DataFrame.\n",
    "        filename: Name of the csv file.\n",
    "        folder_path: Path to the folder with the csv files.\n",
    "    \"\"\"\n",
    "    subdf = pd.read_csv(folder_path+filename)\n",
    "    date = filename[0:10]\n",
    "    subdf[\"date\"] = date\n",
    "    df = df.append(subdf)\n",
    "    return df"
   ]
  },
  {
   "cell_type": "code",
   "execution_count": 3,
   "id": "1aae3c23",
   "metadata": {},
   "outputs": [],
   "source": [
    "def parse_csv_folder(df, folder_path) -> pd.DataFrame:\n",
    "    \"\"\"\n",
    "        Reads a folder, looks for csv files and appends them to a DataFrame.\n",
    "        df: Original DataFrame\n",
    "        folder_path: Path to the folder that contains the csv files.\n",
    "    \"\"\"\n",
    "    csvs = os.listdir(folder_path)\n",
    "    for csv in tqdm(csvs, total=len(csvs)):\n",
    "        if \".csv\" in csv:\n",
    "            df = process_file(df, csv, folder_path)\n",
    "    return df"
   ]
  },
  {
   "cell_type": "markdown",
   "id": "46e097ee",
   "metadata": {},
   "source": [
    "### Generate the DataFrame with the data"
   ]
  },
  {
   "cell_type": "code",
   "execution_count": 4,
   "id": "4131d47d",
   "metadata": {},
   "outputs": [
    {
     "name": "stderr",
     "output_type": "stream",
     "text": [
      "100%|███████████████████████████████████████████████████████████████████████████████████████████████████████████████████████████████████████████████████████████████████████| 30/30 [00:00<00:00, 141.65it/s]\n"
     ]
    },
    {
     "data": {
      "text/html": [
       "<div>\n",
       "<style scoped>\n",
       "    .dataframe tbody tr th:only-of-type {\n",
       "        vertical-align: middle;\n",
       "    }\n",
       "\n",
       "    .dataframe tbody tr th {\n",
       "        vertical-align: top;\n",
       "    }\n",
       "\n",
       "    .dataframe thead th {\n",
       "        text-align: right;\n",
       "    }\n",
       "</style>\n",
       "<table border=\"1\" class=\"dataframe\">\n",
       "  <thead>\n",
       "    <tr style=\"text-align: right;\">\n",
       "      <th></th>\n",
       "      <th>artist</th>\n",
       "      <th>firstName</th>\n",
       "      <th>itemInSession</th>\n",
       "      <th>lastName</th>\n",
       "      <th>length</th>\n",
       "      <th>level</th>\n",
       "      <th>location</th>\n",
       "      <th>sessionId</th>\n",
       "      <th>song</th>\n",
       "      <th>userId</th>\n",
       "    </tr>\n",
       "  </thead>\n",
       "  <tbody>\n",
       "    <tr>\n",
       "      <th>0</th>\n",
       "      <td>Harmonia</td>\n",
       "      <td>Ryan</td>\n",
       "      <td>0</td>\n",
       "      <td>Smith</td>\n",
       "      <td>655.77751</td>\n",
       "      <td>free</td>\n",
       "      <td>San Jose-Sunnyvale-Santa Clara, CA</td>\n",
       "      <td>583</td>\n",
       "      <td>Sehr kosmisch</td>\n",
       "      <td>26</td>\n",
       "    </tr>\n",
       "    <tr>\n",
       "      <th>1</th>\n",
       "      <td>The Prodigy</td>\n",
       "      <td>Ryan</td>\n",
       "      <td>1</td>\n",
       "      <td>Smith</td>\n",
       "      <td>260.07465</td>\n",
       "      <td>free</td>\n",
       "      <td>San Jose-Sunnyvale-Santa Clara, CA</td>\n",
       "      <td>583</td>\n",
       "      <td>The Big Gundown</td>\n",
       "      <td>26</td>\n",
       "    </tr>\n",
       "    <tr>\n",
       "      <th>2</th>\n",
       "      <td>Train</td>\n",
       "      <td>Ryan</td>\n",
       "      <td>2</td>\n",
       "      <td>Smith</td>\n",
       "      <td>205.45261</td>\n",
       "      <td>free</td>\n",
       "      <td>San Jose-Sunnyvale-Santa Clara, CA</td>\n",
       "      <td>583</td>\n",
       "      <td>Marry Me</td>\n",
       "      <td>26</td>\n",
       "    </tr>\n",
       "    <tr>\n",
       "      <th>3</th>\n",
       "      <td>Sony Wonder</td>\n",
       "      <td>Samuel</td>\n",
       "      <td>0</td>\n",
       "      <td>Gonzalez</td>\n",
       "      <td>218.06975</td>\n",
       "      <td>free</td>\n",
       "      <td>Houston-The Woodlands-Sugar Land, TX</td>\n",
       "      <td>597</td>\n",
       "      <td>Blackbird</td>\n",
       "      <td>61</td>\n",
       "    </tr>\n",
       "    <tr>\n",
       "      <th>4</th>\n",
       "      <td>Van Halen</td>\n",
       "      <td>Tegan</td>\n",
       "      <td>2</td>\n",
       "      <td>Levine</td>\n",
       "      <td>289.38404</td>\n",
       "      <td>paid</td>\n",
       "      <td>Portland-South Portland, ME</td>\n",
       "      <td>602</td>\n",
       "      <td>Best Of Both Worlds (Remastered Album Version)</td>\n",
       "      <td>80</td>\n",
       "    </tr>\n",
       "  </tbody>\n",
       "</table>\n",
       "</div>"
      ],
      "text/plain": [
       "        artist firstName  itemInSession  lastName     length level  \\\n",
       "0     Harmonia      Ryan              0     Smith  655.77751  free   \n",
       "1  The Prodigy      Ryan              1     Smith  260.07465  free   \n",
       "2        Train      Ryan              2     Smith  205.45261  free   \n",
       "3  Sony Wonder    Samuel              0  Gonzalez  218.06975  free   \n",
       "4    Van Halen     Tegan              2    Levine  289.38404  paid   \n",
       "\n",
       "                               location  sessionId  \\\n",
       "0    San Jose-Sunnyvale-Santa Clara, CA        583   \n",
       "1    San Jose-Sunnyvale-Santa Clara, CA        583   \n",
       "2    San Jose-Sunnyvale-Santa Clara, CA        583   \n",
       "3  Houston-The Woodlands-Sugar Land, TX        597   \n",
       "4           Portland-South Portland, ME        602   \n",
       "\n",
       "                                             song  userId  \n",
       "0                                   Sehr kosmisch      26  \n",
       "1                                 The Big Gundown      26  \n",
       "2                                        Marry Me      26  \n",
       "3                                       Blackbird      61  \n",
       "4  Best Of Both Worlds (Remastered Album Version)      80  "
      ]
     },
     "execution_count": 4,
     "metadata": {},
     "output_type": "execute_result"
    }
   ],
   "source": [
    "df = pd.DataFrame()\n",
    "df = parse_csv_folder(df, \"../event_data/\")\n",
    "df = df[[\"artist\", \"firstName\", \"itemInSession\", \"lastName\", \"length\", \"level\", \"location\", \"sessionId\", \n",
    "        \"song\", \"userId\"]]\n",
    "df = df[df[\"artist\"].notna()]\n",
    "df = df.astype(str)\n",
    "df[\"sessionId\"] = df[\"sessionId\"].astype(int)\n",
    "df[\"itemInSession\"] = df[\"itemInSession\"].astype(int)\n",
    "df[\"length\"] = df[\"length\"].astype(float)\n",
    "df[\"userId\"] = df[\"userId\"].astype(float).astype(int)\n",
    "df.reset_index(inplace=True, drop=True)\n",
    "df.head()"
   ]
  },
  {
   "cell_type": "code",
   "execution_count": 5,
   "id": "537d3e76",
   "metadata": {},
   "outputs": [
    {
     "data": {
      "text/plain": [
       "(6820, 10)"
      ]
     },
     "execution_count": 5,
     "metadata": {},
     "output_type": "execute_result"
    }
   ],
   "source": [
    "df.shape # Should be 6820"
   ]
  },
  {
   "cell_type": "markdown",
   "id": "4c5a184b",
   "metadata": {},
   "source": [
    "### Save the csv"
   ]
  },
  {
   "cell_type": "code",
   "execution_count": 6,
   "id": "4ca1a9a0",
   "metadata": {},
   "outputs": [],
   "source": [
    "df.to_csv(\"../event_datafile_new.csv\")"
   ]
  },
  {
   "cell_type": "markdown",
   "id": "4203605f",
   "metadata": {},
   "source": [
    "### Create a cluster and connector to Cassandra"
   ]
  },
  {
   "cell_type": "code",
   "execution_count": 7,
   "id": "0c823340",
   "metadata": {},
   "outputs": [],
   "source": [
    "# The CassandraConnector object automatically connects to the specified host, creates a cluster, \n",
    "# and establishes a session.\n",
    "conn = CassandraConnector(host=\"127.0.0.1\", port=9042)"
   ]
  },
  {
   "cell_type": "code",
   "execution_count": 8,
   "id": "71727b05",
   "metadata": {},
   "outputs": [],
   "source": [
    "# Create the keyspace\n",
    "KEYSPACE = \"sparkifydb\"\n",
    "conn.create_keyspace(KEYSPACE)"
   ]
  },
  {
   "cell_type": "code",
   "execution_count": 9,
   "id": "1ee994f7",
   "metadata": {},
   "outputs": [],
   "source": [
    "conn.session.set_keyspace(KEYSPACE)"
   ]
  },
  {
   "cell_type": "markdown",
   "id": "0abf9bf4",
   "metadata": {},
   "source": [
    "### Model, create and populate the tables based on the queries"
   ]
  },
  {
   "cell_type": "markdown",
   "id": "022787c2",
   "metadata": {},
   "source": [
    "- 1. Give me the artist, song title and song's length in the music app history that was heard during sessionId = 338, and itemInSession = 4\n",
    "- 2. Give me only the following: name of artist, song (sorted by itemInSession) and user (first and last name) for userid = 10, sessionid = 182\n",
    "- 3. Give me every user name (first and last) in my music app history who listened to the song 'All Hands Against His Own'"
   ]
  },
  {
   "cell_type": "markdown",
   "id": "3b40dd50",
   "metadata": {},
   "source": [
    "#### 1. Artist, song title and length in the app history heard under sessionId 338, itemInSession 4"
   ]
  },
  {
   "cell_type": "markdown",
   "id": "5efeec3c",
   "metadata": {},
   "source": [
    "Since we are being asked for songs listened under a specific pair of (sessionId, itemInSession), I think it is best to have them as our composite key for the table, with the sessionId being the primary key and the itemInSession sounds like a natural sorting column to use. I'm going to name this table songs_by_session."
   ]
  },
  {
   "cell_type": "code",
   "execution_count": 10,
   "id": "19935dd0",
   "metadata": {},
   "outputs": [
    {
     "data": {
      "text/plain": [
       "<cassandra.cluster.ResultSet at 0x11c3a3310>"
      ]
     },
     "execution_count": 10,
     "metadata": {},
     "output_type": "execute_result"
    }
   ],
   "source": [
    "# Model and create the table\n",
    "table_name = \"songs_by_session\"\n",
    "conn.drop_table(table_name)\n",
    "create_query = \"\"\"\n",
    "    CREATE TABLE IF NOT EXISTS %s \n",
    "        (\n",
    "            session_id INT, \n",
    "            item_in_session INT, \n",
    "            artist TEXT, \n",
    "            song_title TEXT,\n",
    "            length DOUBLE, \n",
    "            PRIMARY KEY(session_id, item_in_session)\n",
    "        )\n",
    "\"\"\" % (table_name)\n",
    "conn.session.execute(create_query)"
   ]
  },
  {
   "cell_type": "code",
   "execution_count": 11,
   "id": "5c5f6d0c",
   "metadata": {},
   "outputs": [
    {
     "name": "stderr",
     "output_type": "stream",
     "text": [
      "100%|███████████████████████████████████████████████████████████████████████████████████████████████████████████████████████████████████████████████████████████████████| 6820/6820 [00:15<00:00, 434.63it/s]\n"
     ]
    }
   ],
   "source": [
    "# Populate the table\n",
    "for index, row in tqdm(df.iterrows(), total=df.shape[0]):\n",
    "    insert_query = \"\"\"\n",
    "    INSERT INTO songs_by_session \n",
    "        (\n",
    "            session_id, \n",
    "            item_in_session, \n",
    "            artist, \n",
    "            song_title, \n",
    "            length\n",
    "        )\n",
    "        VALUES (%s, %s, %s, %s, %s)\n",
    "    \"\"\"\n",
    "    try:\n",
    "        conn.session.execute(insert_query, (row[\"sessionId\"], row[\"itemInSession\"], row[\"artist\"], row[\"song\"], \n",
    "           row[\"length\"]))\n",
    "    except Exception as e:\n",
    "        print(e)\n",
    "        print(insert_query)"
   ]
  },
  {
   "cell_type": "code",
   "execution_count": 12,
   "id": "800cf396",
   "metadata": {},
   "outputs": [
    {
     "name": "stdout",
     "output_type": "stream",
     "text": [
      "Row(artist='Faithless', song_title='Music Matters (Mark Knight Dub)', length=495.3073)\n"
     ]
    }
   ],
   "source": [
    "# Select to check data\n",
    "select_query = \"\"\"\n",
    "    SELECT artist, song_title, length FROM songs_by_session \n",
    "    WHERE session_id = 338 AND item_in_session = 4\n",
    "\"\"\"\n",
    "rows = conn.session.execute(select_query)\n",
    "for row in rows:\n",
    "    print(row)"
   ]
  },
  {
   "cell_type": "markdown",
   "id": "e2bb99a7",
   "metadata": {},
   "source": [
    "#### 2. Name of artist, song(sorted by itemInSession), user (FN, LN), for userId = 10, sessionId= 182"
   ]
  },
  {
   "cell_type": "markdown",
   "id": "a0531778",
   "metadata": {},
   "source": [
    "For this query I'm going to work again with a similar composite key, formed by the user_id as the PK, and session_id, and item_in_session as the other keys. The only difference for this table is that I'm going to store the FN and LN of the user. This table will be named songs_by_session_user."
   ]
  },
  {
   "cell_type": "code",
   "execution_count": 13,
   "id": "512182d6",
   "metadata": {},
   "outputs": [
    {
     "data": {
      "text/plain": [
       "<cassandra.cluster.ResultSet at 0x11c4075d0>"
      ]
     },
     "execution_count": 13,
     "metadata": {},
     "output_type": "execute_result"
    }
   ],
   "source": [
    "# Model and create the table\n",
    "table_name = \"songs_by_session_user\"\n",
    "conn.drop_table(table_name)\n",
    "create_query = \"\"\"\n",
    "    CREATE TABLE IF NOT EXISTS %s \n",
    "        (\n",
    "            user_id INT, \n",
    "            session_id INT,\n",
    "            item_in_session INT,\n",
    "            artist TEXT, \n",
    "            song_title TEXT,\n",
    "            first_name TEXT,\n",
    "            last_name TEXT,\n",
    "            PRIMARY KEY((user_id, session_id), item_in_session)\n",
    "        )\n",
    "\"\"\" % (table_name)\n",
    "conn.session.execute(create_query)"
   ]
  },
  {
   "cell_type": "code",
   "execution_count": 14,
   "id": "c516b5da",
   "metadata": {},
   "outputs": [
    {
     "name": "stderr",
     "output_type": "stream",
     "text": [
      "100%|███████████████████████████████████████████████████████████████████████████████████████████████████████████████████████████████████████████████████████████████████| 6820/6820 [00:14<00:00, 478.96it/s]\n"
     ]
    }
   ],
   "source": [
    "# Populate the table\n",
    "for index, row in tqdm(df.iterrows(), total=df.shape[0]):\n",
    "    insert_query = \"\"\"\n",
    "    INSERT INTO songs_by_session_user \n",
    "        (\n",
    "            user_id,\n",
    "            session_id,\n",
    "            item_in_session,\n",
    "            artist, \n",
    "            song_title, \n",
    "            first_name,\n",
    "            last_name\n",
    "        )\n",
    "        VALUES (%s, %s, %s, %s, %s, %s, %s)\n",
    "    \"\"\"\n",
    "    try:\n",
    "        conn.session.execute(insert_query, (row[\"userId\"], row[\"sessionId\"], row[\"itemInSession\"], row[\"artist\"], row[\"song\"], \n",
    "           row[\"firstName\"], row[\"lastName\"]))\n",
    "    except Exception as e:\n",
    "        print(e)\n",
    "        print(insert_query)"
   ]
  },
  {
   "cell_type": "code",
   "execution_count": 15,
   "id": "51a4488c",
   "metadata": {},
   "outputs": [
    {
     "name": "stdout",
     "output_type": "stream",
     "text": [
      "Row(artist='Down To The Bone', song_title=\"Keep On Keepin' On\", first_name='Sylvie', last_name='Cruz')\n",
      "Row(artist='Three Drives', song_title='Greece 2000', first_name='Sylvie', last_name='Cruz')\n",
      "Row(artist='Sebastien Tellier', song_title='Kilometer', first_name='Sylvie', last_name='Cruz')\n",
      "Row(artist='Lonnie Gordon', song_title='Catch You Baby (Steve Pitron & Max Sanna Radio Edit)', first_name='Sylvie', last_name='Cruz')\n"
     ]
    }
   ],
   "source": [
    "# Select to check data\n",
    "select_query = \"\"\"\n",
    "    SELECT artist, song_title, first_name, last_name FROM songs_by_session_user\n",
    "    WHERE user_id = 10 AND session_id = 182\n",
    "\"\"\"\n",
    "rows = conn.session.execute(select_query)\n",
    "for row in rows:\n",
    "    print(row)"
   ]
  },
  {
   "cell_type": "markdown",
   "id": "92955615",
   "metadata": {},
   "source": [
    "#### 3. User name (FN, LN) who listened to the song ('All Hands Against His Own')"
   ]
  },
  {
   "cell_type": "markdown",
   "id": "ce524879",
   "metadata": {},
   "source": [
    "Ok, for this one we need to create a PK formed by the song_title, and the user_id. The name of this table will be \"users_who_listened_song\"."
   ]
  },
  {
   "cell_type": "code",
   "execution_count": 16,
   "id": "d2da912e",
   "metadata": {},
   "outputs": [
    {
     "data": {
      "text/plain": [
       "<cassandra.cluster.ResultSet at 0x11c3d2d90>"
      ]
     },
     "execution_count": 16,
     "metadata": {},
     "output_type": "execute_result"
    }
   ],
   "source": [
    "# Model and create the table\n",
    "table_name = \"users_who_listened_song\"\n",
    "conn.drop_table(table_name)\n",
    "create_query = \"\"\"\n",
    "    CREATE TABLE IF NOT EXISTS %s \n",
    "        (\n",
    "            song_title TEXT,\n",
    "            user_id INT,\n",
    "            first_name TEXT,\n",
    "            last_name TEXT,\n",
    "            PRIMARY KEY(song_title, user_id)\n",
    "        )\n",
    "\"\"\" % (table_name)\n",
    "conn.session.execute(create_query)"
   ]
  },
  {
   "cell_type": "code",
   "execution_count": 17,
   "id": "98d0f574",
   "metadata": {},
   "outputs": [
    {
     "name": "stderr",
     "output_type": "stream",
     "text": [
      "100%|███████████████████████████████████████████████████████████████████████████████████████████████████████████████████████████████████████████████████████████████████| 6820/6820 [00:14<00:00, 470.46it/s]\n"
     ]
    }
   ],
   "source": [
    "# Populate the table\n",
    "for index, row in tqdm(df.iterrows(), total=df.shape[0]):\n",
    "    insert_query = \"\"\"\n",
    "    INSERT INTO users_who_listened_song\n",
    "        (\n",
    "            song_title,\n",
    "            user_id,\n",
    "            first_name,\n",
    "            last_name\n",
    "        )\n",
    "        VALUES (%s, %s, %s, %s)\n",
    "    \"\"\"\n",
    "    try:\n",
    "        conn.session.execute(insert_query, (row[\"song\"], row[\"userId\"],row[\"firstName\"], row[\"lastName\"]))\n",
    "    except Exception as e:\n",
    "        print(e)\n",
    "        print(insert_query)"
   ]
  },
  {
   "cell_type": "code",
   "execution_count": 18,
   "id": "f921728d",
   "metadata": {},
   "outputs": [
    {
     "name": "stdout",
     "output_type": "stream",
     "text": [
      "Row(first_name='Jacqueline', last_name='Lynch')\n",
      "Row(first_name='Tegan', last_name='Levine')\n",
      "Row(first_name='Sara', last_name='Johnson')\n"
     ]
    }
   ],
   "source": [
    "# Select to check data\n",
    "select_query = \"\"\"\n",
    "    SELECT first_name, last_name FROM users_who_listened_song\n",
    "    WHERE song_title = 'All Hands Against His Own'\n",
    "\"\"\"\n",
    "rows = conn.session.execute(select_query)\n",
    "for row in rows:\n",
    "    print(row)"
   ]
  },
  {
   "cell_type": "markdown",
   "id": "2233b237",
   "metadata": {},
   "source": [
    "### Drop the tables"
   ]
  },
  {
   "cell_type": "code",
   "execution_count": 19,
   "id": "a86b77d4",
   "metadata": {},
   "outputs": [],
   "source": [
    "conn.drop_table(\"songs_by_session\")\n",
    "conn.drop_table(\"songs_by_session_user\")\n",
    "conn.drop_table(\"users_who_listened_song\")"
   ]
  },
  {
   "cell_type": "markdown",
   "id": "fe0420d5",
   "metadata": {},
   "source": [
    "### Close the connection"
   ]
  },
  {
   "cell_type": "code",
   "execution_count": 20,
   "id": "9dbd44b4",
   "metadata": {},
   "outputs": [],
   "source": [
    "conn.session.shutdown()\n",
    "conn.cluster.shutdown()"
   ]
  }
 ],
 "metadata": {
  "kernelspec": {
   "display_name": "Python 3 (ipykernel)",
   "language": "python",
   "name": "python3"
  },
  "language_info": {
   "codemirror_mode": {
    "name": "ipython",
    "version": 3
   },
   "file_extension": ".py",
   "mimetype": "text/x-python",
   "name": "python",
   "nbconvert_exporter": "python",
   "pygments_lexer": "ipython3",
   "version": "3.7.11"
  }
 },
 "nbformat": 4,
 "nbformat_minor": 5
}
